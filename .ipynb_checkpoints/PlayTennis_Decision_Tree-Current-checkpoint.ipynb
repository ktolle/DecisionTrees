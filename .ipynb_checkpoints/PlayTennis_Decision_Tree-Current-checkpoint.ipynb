{
 "cells": [
  {
   "cell_type": "markdown",
   "metadata": {},
   "source": [
    "# Should We Play Tennis?"
   ]
  },
  {
   "cell_type": "code",
   "execution_count": 1,
   "metadata": {
    "collapsed": true
   },
   "outputs": [],
   "source": [
    "import pandas as pd\n",
    "\n",
    "data_file = \"Tennis.csv\"\n",
    "data = pd.read_csv(data_file)\n",
    "(nrows, ncols) = data.shape"
   ]
  },
  {
   "cell_type": "code",
   "execution_count": 2,
   "metadata": {
    "collapsed": true
   },
   "outputs": [],
   "source": [
    "# Tools for viewing the data\n",
    "#print(data.info())          # gives the structure of the data (rows/cols)\n",
    "#print(data.head())          # shows the top five data entries\n",
    "#print(data.describe())      # gives the statistics on the data in the DF"
   ]
  },
  {
   "cell_type": "markdown",
   "metadata": {},
   "source": [
    "### sklearn CART Implementation is non-deterministic--FIX for this"
   ]
  },
  {
   "cell_type": "code",
   "execution_count": null,
   "metadata": {},
   "outputs": [],
   "source": [
    "# Ensure that the decision tree is deterministic\n",
    "import numpy as np\n",
    "np.random.seed(101)"
   ]
  },
  {
   "cell_type": "markdown",
   "metadata": {},
   "source": [
    "### Convert string features to integers"
   ]
  },
  {
   "cell_type": "code",
   "execution_count": 3,
   "metadata": {},
   "outputs": [
    {
     "name": "stdout",
     "output_type": "stream",
     "text": [
      "{'outlook': {'sunny': 0, 'rain': 1, 'overcast': 2}, 'temp': {'hot': 0, 'cool': 1, 'mild': 2}, 'humidity': {'normal': 0, 'high': 1}, 'windy': {'weak': 0, 'strong': 1}, 'play': {'yes': 0, 'no': 1}}\n"
     ]
    }
   ],
   "source": [
    "colnames = list(data.columns.values)\n",
    "string_encoding = {}\n",
    "data_encoded = data.copy()\n",
    "for i in range(ncols):\n",
    "    levels = list(set(data.iloc[:, i]))\n",
    "    num_levels = len(levels)\n",
    "    string_encoding_i = dict(zip(levels, range(num_levels)))\n",
    "    string_encoding[colnames[i]] = string_encoding_i\n",
    "    for j in range(nrows):\n",
    "        data_encoded.iloc[j, i] = string_encoding_i[data.iloc[j, i]]\n",
    "\n",
    "print(string_encoding)\n",
    "#print(data_encoded.head())"
   ]
  },
  {
   "cell_type": "markdown",
   "metadata": {},
   "source": [
    "### One Hot Encoding Categorial Variables"
   ]
  },
  {
   "cell_type": "code",
   "execution_count": 4,
   "metadata": {},
   "outputs": [
    {
     "name": "stdout",
     "output_type": "stream",
     "text": [
      "(14, 10)\n"
     ]
    }
   ],
   "source": [
    "from sklearn import preprocessing\n",
    "enc = preprocessing.OneHotEncoder()\n",
    "enc.fit(data_encoded.iloc[:,0:4])\n",
    "data_onehotencoded = enc.transform(data_encoded.iloc[:,0:4])\n",
    "feature_names = [\"outlook_rainy\", \"outlook_overcast\", \"outlook_sunny\", \\\n",
    "                 \"temp_mild\", \"temp_hot\", \"temp_cool\", \\\n",
    "                 \"humidity_normal\", \"humidity_high\", \\\n",
    "                 \"windy_false\", \"windy_true\"]\n",
    "\n",
    "#print(data_onehotencoded.toarray())\n",
    "print(data_onehotencoded.shape)"
   ]
  },
  {
   "cell_type": "markdown",
   "metadata": {},
   "source": [
    "### Assign the X (feature) and Y (class) Arrays and Split into Train and Test Data"
   ]
  },
  {
   "cell_type": "code",
   "execution_count": 5,
   "metadata": {},
   "outputs": [
    {
     "name": "stdout",
     "output_type": "stream",
     "text": [
      "0     1\n",
      "12    0\n",
      "7     1\n",
      "Name: play, dtype: int64\n"
     ]
    }
   ],
   "source": [
    "from sklearn import tree\n",
    "import numpy as np\n",
    "from sklearn.model_selection import train_test_split \n",
    "\n",
    "X = data_onehotencoded.toarray()\n",
    "Y = data_encoded.iloc[:,-1]\n",
    "X_train, X_test, y_train, y_test = train_test_split(X, Y, test_size = 0.2, random_state = 99)\n",
    "print(y_test)"
   ]
  },
  {
   "cell_type": "markdown",
   "metadata": {},
   "source": [
    "### Generate and Evaluate the Model"
   ]
  },
  {
   "cell_type": "code",
   "execution_count": 6,
   "metadata": {
    "collapsed": true
   },
   "outputs": [],
   "source": [
    "# Generate the Classification model\n",
    "from sklearn.tree import DecisionTreeClassifier\n",
    "dec_tree_ent = DecisionTreeClassifier(criterion='entropy').fit(X_train,y_train)\n",
    "\n",
    "# Validate the model\n",
    "y_predict_ent = dec_tree_ent.predict(X_test)"
   ]
  },
  {
   "cell_type": "code",
   "execution_count": 7,
   "metadata": {},
   "outputs": [
    {
     "name": "stdout",
     "output_type": "stream",
     "text": [
      "Accuracy is : 66.66666666666666%\n"
     ]
    }
   ],
   "source": [
    "# Generate the accuracy score\n",
    "from sklearn.metrics import accuracy_score\n",
    "\n",
    "#def measure_performance(X_train, y_train)\n",
    "acc_ent = accuracy_score(y_test, y_predict_ent) * 100\n",
    "print(\"Accuracy is : {}%\".format(acc_ent))"
   ]
  },
  {
   "cell_type": "markdown",
   "metadata": {},
   "source": [
    "### Create a Confusion Matrix"
   ]
  },
  {
   "cell_type": "code",
   "execution_count": 8,
   "metadata": {},
   "outputs": [
    {
     "data": {
      "text/html": [
       "<div>\n",
       "<style scoped>\n",
       "    .dataframe tbody tr th:only-of-type {\n",
       "        vertical-align: middle;\n",
       "    }\n",
       "\n",
       "    .dataframe tbody tr th {\n",
       "        vertical-align: top;\n",
       "    }\n",
       "\n",
       "    .dataframe thead th {\n",
       "        text-align: right;\n",
       "    }\n",
       "</style>\n",
       "<table border=\"1\" class=\"dataframe\">\n",
       "  <thead>\n",
       "    <tr style=\"text-align: right;\">\n",
       "      <th></th>\n",
       "      <th>Predicted Don't Play</th>\n",
       "      <th>Predicted Play</th>\n",
       "    </tr>\n",
       "  </thead>\n",
       "  <tbody>\n",
       "    <tr>\n",
       "      <th>True Don't play</th>\n",
       "      <td>1</td>\n",
       "      <td>0</td>\n",
       "    </tr>\n",
       "    <tr>\n",
       "      <th>True Play</th>\n",
       "      <td>1</td>\n",
       "      <td>1</td>\n",
       "    </tr>\n",
       "  </tbody>\n",
       "</table>\n",
       "</div>"
      ],
      "text/plain": [
       "                 Predicted Don't Play  Predicted Play\n",
       "True Don't play                     1               0\n",
       "True Play                           1               1"
      ]
     },
     "execution_count": 8,
     "metadata": {},
     "output_type": "execute_result"
    }
   ],
   "source": [
    "from sklearn.metrics import confusion_matrix\n",
    "\n",
    "pd.DataFrame(\n",
    "    confusion_matrix(y_test, y_predict_ent),\n",
    "    columns=['Predicted Don\\'t Play', 'Predicted Play'],\n",
    "    index=['True Don\\'t play', 'True Play']\n",
    ")"
   ]
  },
  {
   "cell_type": "markdown",
   "metadata": {},
   "source": [
    "### Test Other Split Criterion"
   ]
  },
  {
   "cell_type": "code",
   "execution_count": 9,
   "metadata": {},
   "outputs": [
    {
     "name": "stdout",
     "output_type": "stream",
     "text": [
      "Accuracy is : 66.66666666666666%\n"
     ]
    }
   ],
   "source": [
    "# Use Gini impurity (default) instead of Information Gain (entropy)\n",
    "dec_tree_gini = DecisionTreeClassifier().fit(X_train,y_train)  \n",
    "# Validate the model\n",
    "y_predict_gini = dec_tree_gini.predict(X_test)\n",
    "\n",
    "# Generate the accuracy score\n",
    "acc_gini = accuracy_score(y_test, y_predict_gini) * 100\n",
    "print(\"Accuracy is : {}%\".format(acc_gini))"
   ]
  },
  {
   "cell_type": "markdown",
   "metadata": {},
   "source": [
    "### Visualize the Decision Tree"
   ]
  },
  {
   "cell_type": "code",
   "execution_count": 10,
   "metadata": {},
   "outputs": [
    {
     "data": {
      "text/plain": [
       "1"
      ]
     },
     "execution_count": 10,
     "metadata": {},
     "output_type": "execute_result"
    }
   ],
   "source": [
    "from sklearn import tree\n",
    "\n",
    "# NOTE: Must install the graphviz executables for this to work and possibly update your computer's PATH\n",
    "#       https://graphviz.gitlab.io/_pages/Download/Download_windows.html \n",
    "# When using Anaconda run this at the command prompt: 'conda install -c anaconda graphviz' \n",
    "\n",
    "#create a visualization of the tree -- must install graphviz and pydot2 packages for this to work\n",
    "dotfile1 = open(\"tennis_ent.dot\", 'w')\n",
    "tree.export_graphviz(dec_tree_ent, out_file = dotfile1, filled=True, rounded=True, feature_names = feature_names)\n",
    "dotfile1.close()\n",
    "\n",
    "dotfile2 = open(\"tennis_gini.dot\", 'w')\n",
    "tree.export_graphviz(dec_tree_gini, out_file = dotfile2, filled=True, rounded=True, feature_names = feature_names)\n",
    "dotfile2.close()\n",
    "\n",
    "# Convert the dot file to a png\n",
    "import os\n",
    "os.system(\"dot -Tpng tennis_ent.dot -o tennis_ent.png\")\n",
    "os.system(\"dot -Tpng tennis_gini.dot -o tennis_gini.png\")"
   ]
  },
  {
   "cell_type": "code",
   "execution_count": null,
   "metadata": {
    "collapsed": true
   },
   "outputs": [],
   "source": [
    "from IPython.display import Image\n",
    "Image(filename='tennis_ent.png', width=500, height=500)"
   ]
  },
  {
   "cell_type": "code",
   "execution_count": 1,
   "metadata": {},
   "outputs": [
    {
     "data": {
      "image/png": "[encoded data removed]",
      "text/plain": [
       "<IPython.core.display.Image object>"
      ]
     },
     "execution_count": 1,
     "metadata": {
      "image/png": {
       "height": 500,
       "width": 500
      }
     },
     "output_type": "execute_result"
    }
   ],
   "source": [
    "from IPython.display import Image\n",
    "Image(filename='tennis_gini.png', width=500, height=500)"
   ]
  },
  {
   "cell_type": "markdown",
   "metadata": {
    "collapsed": true
   },
   "source": [
    "### Add a new 'noisy' row and retrain"
   ]
  },
  {
   "cell_type": "code",
   "execution_count": null,
   "metadata": {
    "collapsed": true
   },
   "outputs": [],
   "source": [
    "# Check on the test values\n",
    "print(X_test)\n",
    "print(y_test)\n",
    "numY = len(y_test)\n",
    "print(numY)"
   ]
  },
  {
   "cell_type": "code",
   "execution_count": null,
   "metadata": {
    "collapsed": true
   },
   "outputs": [],
   "source": [
    "# Add Outlook=Sunny, temp=Hot, humidity=Normal, Windy=Strong, Play=no\n",
    "new_X = np.array([1., 0., 0., 0., 0., 1., 1., 0., 0., 1.])\n",
    "new_y = 1\n",
    "\n",
    "X_test = np.vstack([X_test, new_X])\n",
    "y_test = np.hstack([y_test, new_y])"
   ]
  },
  {
   "cell_type": "code",
   "execution_count": null,
   "metadata": {
    "collapsed": true
   },
   "outputs": [],
   "source": [
    "# Check to make sure that the new values are added\n",
    "print(X_test)\n",
    "print(y_test)\n",
    "numY = len(y_test)\n",
    "print(numY)"
   ]
  },
  {
   "cell_type": "code",
   "execution_count": null,
   "metadata": {
    "collapsed": true
   },
   "outputs": [],
   "source": [
    "## Put the noisy test through the two models\n",
    "y_predict_ent2 = dec_tree_ent.predict(X_test)\n",
    "y_predict_gini2 = dec_tree_gini.predict(X_test)\n",
    "\n",
    "# Generate the accuracy score\n",
    "acc_ent2 = accuracy_score(y_test, y_predict_ent2) * 100\n",
    "print(\"Accuracy is : {}%\".format(acc_ent2))\n",
    "\n",
    "# Generate the accuracy score\n",
    "acc_gini2 = accuracy_score(y_test, y_predict_gini2) * 100\n",
    "print(\"Accuracy is : {}%\".format(acc_gini2))"
   ]
  },
  {
   "cell_type": "code",
   "execution_count": null,
   "metadata": {
    "collapsed": true
   },
   "outputs": [],
   "source": [
    "pd.DataFrame(\n",
    "    confusion_matrix(y_test, y_predict_ent2),\n",
    "    columns=['Predicted Don\\'t Play', 'Predicted Play'],\n",
    "    index=['True Don\\'t play', 'True Play']\n",
    ")"
   ]
  },
  {
   "cell_type": "code",
   "execution_count": null,
   "metadata": {
    "collapsed": true
   },
   "outputs": [],
   "source": [
    "pd.DataFrame(\n",
    "    confusion_matrix(y_test, y_predict_gini2),\n",
    "    columns=['Predicted Don\\'t Play', 'Predicted Play'],\n",
    "    index=['True Don\\'t play', 'True Play']\n",
    ")"
   ]
  }
 ],
 "metadata": {
  "kernelspec": {
   "display_name": "Python 3",
   "language": "python",
   "name": "python3"
  },
  "language_info": {
   "codemirror_mode": {
    "name": "ipython",
    "version": 3
   },
   "file_extension": ".py",
   "mimetype": "text/x-python",
   "name": "python",
   "nbconvert_exporter": "python",
   "pygments_lexer": "ipython3",
   "version": "3.6.5"
  }
 },
 "nbformat": 4,
 "nbformat_minor": 2
}
